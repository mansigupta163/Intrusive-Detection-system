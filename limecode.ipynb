{
 "cells": [
  {
   "cell_type": "code",
   "execution_count": 1,
   "metadata": {},
   "outputs": [
    {
     "name": "stderr",
     "output_type": "stream",
     "text": [
      "C:\\Users\\Neha Gupta\\Anaconda3\\lib\\site-packages\\sklearn\\cross_validation.py:41: DeprecationWarning: This module was deprecated in version 0.18 in favor of the model_selection module into which all the refactored classes and functions are moved. Also note that the interface of the new CV iterators are different from that of this module. This module will be removed in 0.20.\n",
      "  \"This module will be removed in 0.20.\", DeprecationWarning)\n"
     ]
    }
   ],
   "source": [
    "import pandas as pd\n",
    "import numpy as np\n",
    "import sklearn.ensemble as ek\n",
    "import matplotlib.pyplot as plt\n",
    "import seaborn as sns\n",
    "from sklearn.base import TransformerMixin\n",
    "from sklearn.preprocessing import Imputer\n",
    "from sklearn.preprocessing import MinMaxScaler\n",
    "from sklearn.preprocessing import LabelEncoder\n",
    "from sklearn.metrics import accuracy_score\n",
    "from sklearn import cross_validation\n",
    "from sklearn.linear_model import LogisticRegression\n",
    "from sklearn.ensemble import RandomForestClassifier\n",
    "from sklearn.feature_selection import SelectFromModel\n",
    "import lime\n",
    "import lime.lime_tabular\n",
    "from __future__ import print_function"
   ]
  },
  {
   "cell_type": "code",
   "execution_count": 2,
   "metadata": {},
   "outputs": [],
   "source": [
    "dataset=pd.read_csv(r\"C:\\Users\\Neha Gupta\\Desktop\\ndd.txt\",header=None)\n",
    "X = dataset.drop([3,2,1,41],axis=1).values\n",
    "y = dataset[41].values"
   ]
  },
  {
   "cell_type": "code",
   "execution_count": 3,
   "metadata": {},
   "outputs": [
    {
     "data": {
      "text/plain": [
       "array([[0.00e+00, 4.91e+02, 0.00e+00, ..., 5.00e-02, 0.00e+00, 2.00e+01],\n",
       "       [0.00e+00, 1.46e+02, 0.00e+00, ..., 0.00e+00, 0.00e+00, 1.50e+01],\n",
       "       [0.00e+00, 0.00e+00, 0.00e+00, ..., 0.00e+00, 0.00e+00, 1.90e+01],\n",
       "       ...,\n",
       "       [0.00e+00, 0.00e+00, 0.00e+00, ..., 1.00e+00, 1.00e+00, 2.10e+01],\n",
       "       [0.00e+00, 0.00e+00, 0.00e+00, ..., 0.00e+00, 0.00e+00, 2.00e+01],\n",
       "       [0.00e+00, 0.00e+00, 0.00e+00, ..., 0.00e+00, 0.00e+00, 1.80e+01]])"
      ]
     },
     "execution_count": 3,
     "metadata": {},
     "output_type": "execute_result"
    }
   ],
   "source": [
    "X"
   ]
  },
  {
   "cell_type": "code",
   "execution_count": 4,
   "metadata": {},
   "outputs": [],
   "source": [
    "attacks=dataset[41].unique()"
   ]
  },
  {
   "cell_type": "code",
   "execution_count": 5,
   "metadata": {},
   "outputs": [
    {
     "data": {
      "text/plain": [
       "array(['normal', 'neptune', 'warezclient', 'ipsweep', 'portsweep',\n",
       "       'teardrop', 'nmap', 'satan', 'smurf', 'pod', 'back',\n",
       "       'guess_passwd', 'ftp_write', 'multihop', 'rootkit',\n",
       "       'buffer_overflow', 'imap', 'warezmaster', 'phf', 'land',\n",
       "       'loadmodule', 'spy'], dtype=object)"
      ]
     },
     "execution_count": 5,
     "metadata": {},
     "output_type": "execute_result"
    }
   ],
   "source": [
    "attacks"
   ]
  },
  {
   "cell_type": "code",
   "execution_count": 6,
   "metadata": {},
   "outputs": [],
   "source": [
    "extratrees = ek.ExtraTreesClassifier().fit(X,y)\n",
    "model = SelectFromModel(extratrees, prefit=True)\n",
    "X_new = model.transform(X)\n",
    "nbfeatures = X_new.shape[1]"
   ]
  },
  {
   "cell_type": "markdown",
   "metadata": {},
   "source": [
    "# Logistic regression"
   ]
  },
  {
   "cell_type": "code",
   "execution_count": 7,
   "metadata": {},
   "outputs": [],
   "source": [
    "from sklearn.metrics import classification_report,accuracy_score, confusion_matrix, auc ,roc_curve"
   ]
  },
  {
   "cell_type": "code",
   "execution_count": 8,
   "metadata": {},
   "outputs": [],
   "source": [
    "X_train, X_validation, Y_train, Y_validation = cross_validation.train_test_split(X_new, y ,test_size=0.2)"
   ]
  },
  {
   "cell_type": "code",
   "execution_count": 9,
   "metadata": {},
   "outputs": [
    {
     "data": {
      "text/plain": [
       "0.9519745981345505"
      ]
     },
     "execution_count": 9,
     "metadata": {},
     "output_type": "execute_result"
    }
   ],
   "source": [
    "model_logreg = LogisticRegression()\n",
    "model_logreg.fit(X_train, Y_train)\n",
    "accuracy_score(Y_validation, model_logreg.predict(X_validation))"
   ]
  },
  {
   "cell_type": "code",
   "execution_count": 11,
   "metadata": {},
   "outputs": [
    {
     "name": "stdout",
     "output_type": "stream",
     "text": [
      "                 precision    recall  f1-score   support\n",
      "\n",
      "           back       0.91      0.65      0.75        31\n",
      "buffer_overflow       0.00      0.00      0.00         1\n",
      "   guess_passwd       1.00      0.33      0.50         3\n",
      "           imap       0.00      0.00      0.00         1\n",
      "        ipsweep       0.81      0.90      0.85       152\n",
      "       multihop       0.00      0.00      0.00         1\n",
      "        neptune       0.99      1.00      1.00      1630\n",
      "           nmap       0.62      0.41      0.50        61\n",
      "         normal       0.96      0.99      0.97      2707\n",
      "            pod       0.00      0.00      0.00        10\n",
      "      portsweep       0.99      0.89      0.94       111\n",
      "        rootkit       0.00      0.00      0.00         1\n",
      "          satan       0.88      0.69      0.78       143\n",
      "          smurf       0.78      0.78      0.78       115\n",
      "       teardrop       0.19      0.08      0.12        36\n",
      "    warezclient       0.71      0.77      0.74        35\n",
      "    warezmaster       0.00      0.00      0.00         1\n",
      "\n",
      "    avg / total       0.94      0.95      0.95      5039\n",
      "\n"
     ]
    },
    {
     "name": "stderr",
     "output_type": "stream",
     "text": [
      "C:\\Users\\Neha Gupta\\Anaconda3\\lib\\site-packages\\sklearn\\metrics\\classification.py:1135: UndefinedMetricWarning: Precision and F-score are ill-defined and being set to 0.0 in labels with no predicted samples.\n",
      "  'precision', 'predicted', average, warn_for)\n"
     ]
    }
   ],
   "source": [
    "print(classification_report(Y_validation,model_logreg.predict(X_validation)))"
   ]
  },
  {
   "cell_type": "code",
   "execution_count": 10,
   "metadata": {},
   "outputs": [
    {
     "name": "stdout",
     "output_type": "stream",
     "text": [
      "confusion matrix\n",
      " [[  20    0    0    0    0    0    0    0   10    0    0    0    0    0\n",
      "     0    1    0]\n",
      " [   0    0    0    0    0    0    0    0    0    0    0    0    0    0\n",
      "     0    1    0]\n",
      " [   2    0    1    0    0    0    0    0    0    0    0    0    0    0\n",
      "     0    0    0]\n",
      " [   0    0    0    0    0    0    0    1    0    0    0    0    0    0\n",
      "     0    0    0]\n",
      " [   0    0    0    0  137    0    0    3   10    0    0    0    0    0\n",
      "     0    2    0]\n",
      " [   0    0    0    0    0    0    0    1    0    0    0    0    0    0\n",
      "     0    0    0]\n",
      " [   0    0    0    0    0    0 1629    0    0    0    0    0    0    0\n",
      "     1    0    0]\n",
      " [   0    0    0    0   27    0    0   25    5    0    0    0    0    0\n",
      "     4    0    0]\n",
      " [   0    0    0    0    5    0    3    3 2667    0    0    0    9   13\n",
      "     2    5    0]\n",
      " [   0    0    0    0    1    0    0    4    3    0    0    0    0    0\n",
      "     2    0    0]\n",
      " [   0    0    0    0    0    0    6    0    6    0   99    0    0    0\n",
      "     0    0    0]\n",
      " [   0    0    0    0    0    0    0    0    0    0    0    0    0    0\n",
      "     0    1    0]\n",
      " [   0    0    0    0    0    0    1    1   23    0    1    0   99   13\n",
      "     4    1    0]\n",
      " [   0    0    0    0    0    0    0    1   24    0    0    0    0   90\n",
      "     0    0    0]\n",
      " [   0    0    0    0    0    0    0    0   29    0    0    0    4    0\n",
      "     3    0    0]\n",
      " [   0    0    0    0    0    0    0    0    8    0    0    0    0    0\n",
      "     0   27    0]\n",
      " [   0    0    0    0    0    0    0    1    0    0    0    0    0    0\n",
      "     0    0    0]]\n"
     ]
    }
   ],
   "source": [
    "cm = confusion_matrix(Y_validation, model_logreg.predict(X_validation))\n",
    "print('confusion matrix\\n %s' % cm)\n"
   ]
  },
  {
   "cell_type": "markdown",
   "metadata": {},
   "source": [
    "# Random forest"
   ]
  },
  {
   "cell_type": "code",
   "execution_count": 12,
   "metadata": {},
   "outputs": [
    {
     "data": {
      "text/plain": [
       "0.9940464377852749"
      ]
     },
     "execution_count": 12,
     "metadata": {},
     "output_type": "execute_result"
    }
   ],
   "source": [
    "model_rf = RandomForestClassifier()\n",
    "model_rf.fit(X_train, Y_train)\n",
    "accuracy_score(Y_validation, model_rf.predict(X_validation))"
   ]
  },
  {
   "cell_type": "code",
   "execution_count": 13,
   "metadata": {},
   "outputs": [
    {
     "name": "stdout",
     "output_type": "stream",
     "text": [
      "                 precision    recall  f1-score   support\n",
      "\n",
      "           back       1.00      0.97      0.98        31\n",
      "buffer_overflow       0.00      0.00      0.00         1\n",
      "      ftp_write       0.00      0.00      0.00         0\n",
      "   guess_passwd       1.00      1.00      1.00         3\n",
      "           imap       0.00      0.00      0.00         1\n",
      "        ipsweep       0.97      1.00      0.99       152\n",
      "       multihop       0.00      0.00      0.00         1\n",
      "        neptune       1.00      1.00      1.00      1630\n",
      "           nmap       0.97      0.95      0.96        61\n",
      "         normal       0.99      1.00      1.00      2707\n",
      "            pod       1.00      0.60      0.75        10\n",
      "      portsweep       1.00      0.98      0.99       111\n",
      "        rootkit       1.00      1.00      1.00         1\n",
      "          satan       0.99      0.97      0.98       143\n",
      "          smurf       0.99      0.97      0.98       115\n",
      "       teardrop       0.94      0.94      0.94        36\n",
      "    warezclient       0.97      0.97      0.97        35\n",
      "    warezmaster       1.00      1.00      1.00         1\n",
      "\n",
      "    avg / total       0.99      0.99      0.99      5039\n",
      "\n"
     ]
    },
    {
     "name": "stderr",
     "output_type": "stream",
     "text": [
      "C:\\Users\\Neha Gupta\\Anaconda3\\lib\\site-packages\\sklearn\\metrics\\classification.py:1135: UndefinedMetricWarning: Precision and F-score are ill-defined and being set to 0.0 in labels with no predicted samples.\n",
      "  'precision', 'predicted', average, warn_for)\n",
      "C:\\Users\\Neha Gupta\\Anaconda3\\lib\\site-packages\\sklearn\\metrics\\classification.py:1137: UndefinedMetricWarning: Recall and F-score are ill-defined and being set to 0.0 in labels with no true samples.\n",
      "  'recall', 'true', average, warn_for)\n"
     ]
    }
   ],
   "source": [
    "print(classification_report(Y_validation,model_rf.predict(X_validation)))"
   ]
  },
  {
   "cell_type": "code",
   "execution_count": 14,
   "metadata": {},
   "outputs": [
    {
     "name": "stdout",
     "output_type": "stream",
     "text": [
      "confusion matrix\n",
      " [[  30    0    1    0    0    0    0    0    0    0    0    0    0    0\n",
      "     0    0    0    0]\n",
      " [   0    0    0    0    0    0    0    0    0    1    0    0    0    0\n",
      "     0    0    0    0]\n",
      " [   0    0    0    0    0    0    0    0    0    0    0    0    0    0\n",
      "     0    0    0    0]\n",
      " [   0    0    0    3    0    0    0    0    0    0    0    0    0    0\n",
      "     0    0    0    0]\n",
      " [   0    0    0    0    0    0    0    0    0    1    0    0    0    0\n",
      "     0    0    0    0]\n",
      " [   0    0    0    0    0  152    0    0    0    0    0    0    0    0\n",
      "     0    0    0    0]\n",
      " [   0    0    0    0    0    1    0    0    0    0    0    0    0    0\n",
      "     0    0    0    0]\n",
      " [   0    0    0    0    0    0    0 1629    0    1    0    0    0    0\n",
      "     0    0    0    0]\n",
      " [   0    0    0    0    0    1    0    0   58    2    0    0    0    0\n",
      "     0    0    0    0]\n",
      " [   0    0    0    0    0    2    0    0    2 2702    0    0    0    0\n",
      "     0    0    1    0]\n",
      " [   0    0    0    0    0    0    0    0    0    3    6    0    0    1\n",
      "     0    0    0    0]\n",
      " [   0    0    0    0    0    0    0    0    0    2    0  109    0    0\n",
      "     0    0    0    0]\n",
      " [   0    0    0    0    0    0    0    0    0    0    0    0    1    0\n",
      "     0    0    0    0]\n",
      " [   0    0    0    0    0    0    0    0    0    4    0    0    0  139\n",
      "     0    0    0    0]\n",
      " [   0    0    0    0    0    0    0    0    0    2    0    0    0    0\n",
      "   111    2    0    0]\n",
      " [   0    0    0    0    0    0    0    0    0    1    0    0    0    0\n",
      "     1   34    0    0]\n",
      " [   0    0    0    0    0    0    0    0    0    1    0    0    0    0\n",
      "     0    0   34    0]\n",
      " [   0    0    0    0    0    0    0    0    0    0    0    0    0    0\n",
      "     0    0    0    1]]\n"
     ]
    }
   ],
   "source": [
    "cm = confusion_matrix(Y_validation, model_rf.predict(X_validation))\n",
    "print('confusion matrix\\n %s' % cm)"
   ]
  },
  {
   "cell_type": "markdown",
   "metadata": {},
   "source": [
    "# Lime"
   ]
  },
  {
   "cell_type": "code",
   "execution_count": 17,
   "metadata": {},
   "outputs": [],
   "source": [
    "predict_fn_logreg = lambda x: model_logreg.predict_proba(x).astype(float)\n",
    "predict_fn_rf = lambda x: model_rf.predict_proba(x).astype(float)"
   ]
  },
  {
   "cell_type": "code",
   "execution_count": 23,
   "metadata": {},
   "outputs": [],
   "source": [
    "features = []\n",
    "index = np.argsort(extratrees.feature_importances_)[::-1][:nbfeatures]"
   ]
  },
  {
   "cell_type": "code",
   "execution_count": 24,
   "metadata": {},
   "outputs": [
    {
     "data": {
      "text/plain": [
       "array([29., 21., 25., 35., 34., 32., 22., 24., 33., 38., 36., 31., 37.,\n",
       "        8., 19.])"
      ]
     },
     "execution_count": 24,
     "metadata": {},
     "output_type": "execute_result"
    }
   ],
   "source": [
    "index.astype(np.float64)"
   ]
  },
  {
   "cell_type": "code",
   "execution_count": 25,
   "metadata": {},
   "outputs": [
    {
     "name": "stdout",
     "output_type": "stream",
     "text": [
      "[30.0, 21.0, 25.0, 8.0, 35.0, 28.0, 29.0, 32.0, 38.0, 23.0, 19.0, 33.0, 31.0]\n"
     ]
    }
   ],
   "source": [
    "train_int = [30., 21., 25.,  8., 35., 28., 29., 32., 38., 23., 19., 33., 31.]\n",
    "features_name_int = list(train_int)\n",
    "feature_names = sum([features_name_int],[])\n",
    "print(feature_names)"
   ]
  },
  {
   "cell_type": "code",
   "execution_count": 31,
   "metadata": {},
   "outputs": [],
   "source": [
    "\n",
    "explainer = lime.lime_tabular.LimeTabularExplainer(X_train,feature_names = index,class_names=attacks,\n",
    "                                                   categorical_features='none', \n",
    "                                                   categorical_names='none', kernel_width=3)"
   ]
  },
  {
   "cell_type": "code",
   "execution_count": 37,
   "metadata": {},
   "outputs": [
    {
     "data": {
      "text/plain": [
       "array([[  0.  ,   1.  ,   1.  , ...,   0.  ,   0.  ,  18.  ],\n",
       "       [  0.  , 140.  ,   1.  , ...,   0.  ,   0.  ,  20.  ],\n",
       "       [  1.  ,   3.  ,   0.33, ...,   0.  ,   0.  ,  20.  ],\n",
       "       ...,\n",
       "       [  0.  , 199.  ,   0.  , ...,   0.  ,   0.  ,  18.  ],\n",
       "       [  0.  ,   2.  ,   0.  , ...,   1.  ,   1.  ,  15.  ],\n",
       "       [  1.  ,   5.  ,   0.  , ...,   0.  ,   0.  ,  21.  ]])"
      ]
     },
     "execution_count": 37,
     "metadata": {},
     "output_type": "execute_result"
    }
   ],
   "source": [
    "X_validation"
   ]
  },
  {
   "cell_type": "code",
   "execution_count": 38,
   "metadata": {},
   "outputs": [],
   "source": [
    "observation_1 = 2\n",
    "exp = explainer.explain_instance(X_validation[observation_1], predict_fn_logreg, num_features=13)"
   ]
  },
  {
   "cell_type": "code",
   "execution_count": 40,
   "metadata": {},
   "outputs": [
    {
     "data": {
      "text/plain": [
       "[('22 <= 11.00', 9.385663761824782e-05),\n",
       " ('29 <= 0.00', -7.678146613005252e-05),\n",
       " ('14.00 < 21 <= 143.00', -7.454951288486105e-05),\n",
       " ('18.00 < 19 <= 20.00', -4.090812028671124e-05),\n",
       " ('37 <= 0.00', 3.1439689028465586e-05),\n",
       " ('33 <= 0.00', -2.9359820231710495e-05),\n",
       " ('0.00 < 25 <= 1.00', -2.3432308755230074e-05),\n",
       " ('8 <= 0.00', 1.8175064375673938e-05),\n",
       " ('0.02 < 24 <= 0.07', 1.4348108483306865e-05),\n",
       " ('32 <= 0.09', 1.066167706847058e-05),\n",
       " ('34 <= 0.00', 4.42502142044697e-06),\n",
       " ('38 <= 0.00', -3.2212661531490455e-06),\n",
       " ('0.00 < 31 <= 1.00', -2.9781328126476587e-06)]"
      ]
     },
     "execution_count": 40,
     "metadata": {},
     "output_type": "execute_result"
    }
   ],
   "source": [
    "exp.as_list()"
   ]
  },
  {
   "cell_type": "code",
   "execution_count": 41,
   "metadata": {},
   "outputs": [
    {
     "data": {
      "text/plain": [
       "[('29 <= 0.00', -0.00014927787876533707),\n",
       " ('33 <= 0.00', -0.00011485126284801456),\n",
       " ('0.02 < 24 <= 0.07', -8.568893366597969e-05),\n",
       " ('0.00 < 25 <= 1.00', -7.783517983539767e-05),\n",
       " ('38 <= 0.00', 7.759255829172838e-05),\n",
       " ('18.00 < 19 <= 20.00', -7.555974016132e-05),\n",
       " ('32 <= 0.09', -6.523059911227696e-05),\n",
       " ('8 <= 0.00', 5.890874769285609e-05),\n",
       " ('34 <= 0.00', 5.87595691982064e-05),\n",
       " ('37 <= 0.00', -5.724411982867059e-05),\n",
       " ('14.00 < 21 <= 143.00', 1.6070920621750752e-05),\n",
       " ('22 <= 11.00', 1.2622077497084125e-05),\n",
       " ('0.00 < 35 <= 1.00', 9.8663413677419e-06)]"
      ]
     },
     "execution_count": 41,
     "metadata": {},
     "output_type": "execute_result"
    }
   ],
   "source": [
    "exp = explainer.explain_instance(X_validation[observation_1], predict_fn_rf, num_features=13)\n",
    "exp.as_list()"
   ]
  },
  {
   "cell_type": "code",
   "execution_count": 42,
   "metadata": {},
   "outputs": [
    {
     "name": "stdout",
     "output_type": "stream",
     "text": [
      "neptune\n"
     ]
    }
   ],
   "source": [
    "print(Y_validation[observation_1])"
   ]
  },
  {
   "cell_type": "code",
   "execution_count": 51,
   "metadata": {},
   "outputs": [],
   "source": [
    "preds=model_logreg.predict(X_validation)"
   ]
  },
  {
   "cell_type": "code",
   "execution_count": 52,
   "metadata": {},
   "outputs": [
    {
     "data": {
      "text/plain": [
       "array(['nmap', 'neptune', 'normal', ..., 'normal', 'portsweep', 'normal'],\n",
       "      dtype=object)"
      ]
     },
     "execution_count": 52,
     "metadata": {},
     "output_type": "execute_result"
    }
   ],
   "source": [
    "preds"
   ]
  },
  {
   "cell_type": "code",
   "execution_count": 53,
   "metadata": {},
   "outputs": [
    {
     "data": {
      "text/plain": [
       "'neptune'"
      ]
     },
     "execution_count": 53,
     "metadata": {},
     "output_type": "execute_result"
    }
   ],
   "source": [
    "preds[observation_1]"
   ]
  },
  {
   "cell_type": "code",
   "execution_count": 55,
   "metadata": {},
   "outputs": [
    {
     "data": {
      "text/plain": [
       "[('21 <= 2.00', 0.0002007681158303084),\n",
       " ('19 <= 18.00', 0.00018725056322408027),\n",
       " ('0.00 < 29 <= 1.00', 8.562146375533552e-05),\n",
       " ('24 <= 0.00', 6.0500755276210206e-05),\n",
       " ('33 > 0.06', 5.5483904662837e-05),\n",
       " ('0.00 < 31 <= 1.00', 5.3071845118027663e-05),\n",
       " ('36 <= 0.00', 4.683399720454729e-05),\n",
       " ('11.00 < 22 <= 62.00', 4.230266331984456e-05),\n",
       " ('8 <= 0.00', 3.716948800192401e-05),\n",
       " ('37 <= 0.00', 2.3977325198240126e-05),\n",
       " ('35 <= 0.00', -2.0496158916881253e-05),\n",
       " ('38 > 0.02', -1.2843302225378013e-05),\n",
       " ('25 <= 0.00', 1.0774707981901261e-05)]"
      ]
     },
     "execution_count": 55,
     "metadata": {},
     "output_type": "execute_result"
    }
   ],
   "source": [
    "observation_2 = 30\n",
    "exp = explainer.explain_instance(X_validation[observation_2], predict_fn_logreg, num_features=13)\n",
    "exp.as_list()"
   ]
  },
  {
   "cell_type": "code",
   "execution_count": 56,
   "metadata": {},
   "outputs": [
    {
     "data": {
      "text/plain": [
       "[('19 <= 18.00', 0.000665436147189512),\n",
       " ('24 <= 0.00', 0.000487863456337097),\n",
       " ('0.00 < 29 <= 1.00', 0.00046836363848367805),\n",
       " ('33 > 0.06', 0.0003908686849164199),\n",
       " ('11.00 < 22 <= 62.00', 0.00032221077252170635),\n",
       " ('21 <= 2.00', 0.00030276509311954325),\n",
       " ('25 <= 0.00', 0.00025924587703289955),\n",
       " ('37 <= 0.00', 0.0002391255110394568),\n",
       " ('8 <= 0.00', 0.00023201221041378088),\n",
       " ('35 <= 0.00', -0.00017191343857222012),\n",
       " ('36 <= 0.00', -0.00016763924013021554),\n",
       " ('38 > 0.02', -0.00013993420512776875),\n",
       " ('0.00 < 31 <= 1.00', 5.61817822560019e-05)]"
      ]
     },
     "execution_count": 56,
     "metadata": {},
     "output_type": "execute_result"
    }
   ],
   "source": [
    "exp = explainer.explain_instance(X_validation[observation_2], predict_fn_rf, num_features=13)\n",
    "exp.as_list()"
   ]
  }
 ],
 "metadata": {
  "kernelspec": {
   "display_name": "Python 3",
   "language": "python",
   "name": "python3"
  },
  "language_info": {
   "codemirror_mode": {
    "name": "ipython",
    "version": 3
   },
   "file_extension": ".py",
   "mimetype": "text/x-python",
   "name": "python",
   "nbconvert_exporter": "python",
   "pygments_lexer": "ipython3",
   "version": "3.6.5"
  }
 },
 "nbformat": 4,
 "nbformat_minor": 2
}
